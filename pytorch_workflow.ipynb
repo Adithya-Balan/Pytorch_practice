{
  "cells": [
    {
      "cell_type": "code",
      "execution_count": 164,
      "metadata": {
        "colab": {
          "base_uri": "https://localhost:8080/"
        },
        "id": "NR2XafZ-1vGK",
        "outputId": "533d7635-2b46-450a-eabd-a7eabc59e64e"
      },
      "outputs": [
        {
          "output_type": "execute_result",
          "data": {
            "text/plain": [
              "{1: 'Data (prepare and load)',\n",
              " 2: 'Build model',\n",
              " 3: 'fitting the model to data (Training)',\n",
              " 4: 'making a prediction and evalutating a model (inference)',\n",
              " 5: 'saving and loading a model',\n",
              " 6: 'put it all together'}"
            ]
          },
          "metadata": {},
          "execution_count": 164
        }
      ],
      "source": [
        "# The essence of machine learning and deep learning is to take some data from the past,\n",
        "# build an algorithm (like a neural network) to discover patterns in it and use the discoverd patterns to predict the future.\n",
        "\n",
        "topic_in_this_notebook = {\n",
        "    1: 'Data (prepare and load)',\n",
        "    2: 'Build model',\n",
        "    3: 'fitting the model to data (Training)',\n",
        "    4: 'making a prediction and evalutating a model (inference)',\n",
        "    5: 'saving and loading a model',\n",
        "    6: 'put it all together',\n",
        "}\n",
        "\n",
        "topic_in_this_notebook\n"
      ]
    },
    {
      "cell_type": "code",
      "execution_count": 165,
      "metadata": {
        "colab": {
          "base_uri": "https://localhost:8080/",
          "height": 36
        },
        "id": "BQ9OE0b12qkc",
        "outputId": "76b52195-4e2a-4b6b-ecdd-d4222ff3661c"
      },
      "outputs": [
        {
          "output_type": "execute_result",
          "data": {
            "text/plain": [
              "'2.4.1+cu121'"
            ],
            "application/vnd.google.colaboratory.intrinsic+json": {
              "type": "string"
            }
          },
          "metadata": {},
          "execution_count": 165
        }
      ],
      "source": [
        "# Dependicies\n",
        "import torch\n",
        "from torch import nn #nn contains all pytorch's building blocks for neutral networks\n",
        "import matplotlib.pyplot as plt\n",
        "\n",
        "#check version\n",
        "torch.__version__\n"
      ]
    },
    {
      "cell_type": "markdown",
      "metadata": {
        "id": "PjcVKHeT3gMh"
      },
      "source": [
        "# Data (Preparing and loading)\n",
        "\n",
        "Machine learning is a game of two parts:\n",
        "\n",
        "* Turn your data, whatever it is, into numbers (a representation).\n",
        "* Pick or build a model to learn the representation as best as possible.\n",
        "\n",
        "Data can be anything...\n",
        "* Excel, image, audio, video(yt), DNA, Text etc..\n",
        "\n",
        "We'll use linear regression to create the data with known parameters (things that can be learned by a model) and then we'll use PyTorch to see if we can build model to estimate these parameters using gradient descent."
      ]
    },
    {
      "cell_type": "code",
      "execution_count": 166,
      "metadata": {
        "colab": {
          "base_uri": "https://localhost:8080/"
        },
        "collapsed": true,
        "id": "RyOPdT_83lDO",
        "outputId": "da9a2b36-f208-4b9f-ffaf-8d159d69185d"
      },
      "outputs": [
        {
          "output_type": "stream",
          "name": "stdout",
          "text": [
            "tensor([[0.0000],\n",
            "        [0.0200],\n",
            "        [0.0400],\n",
            "        [0.0600],\n",
            "        [0.0800],\n",
            "        [0.1000],\n",
            "        [0.1200],\n",
            "        [0.1400],\n",
            "        [0.1600],\n",
            "        [0.1800],\n",
            "        [0.2000],\n",
            "        [0.2200],\n",
            "        [0.2400],\n",
            "        [0.2600],\n",
            "        [0.2800],\n",
            "        [0.3000],\n",
            "        [0.3200],\n",
            "        [0.3400],\n",
            "        [0.3600],\n",
            "        [0.3800],\n",
            "        [0.4000],\n",
            "        [0.4200],\n",
            "        [0.4400],\n",
            "        [0.4600],\n",
            "        [0.4800],\n",
            "        [0.5000],\n",
            "        [0.5200],\n",
            "        [0.5400],\n",
            "        [0.5600],\n",
            "        [0.5800],\n",
            "        [0.6000],\n",
            "        [0.6200],\n",
            "        [0.6400],\n",
            "        [0.6600],\n",
            "        [0.6800],\n",
            "        [0.7000],\n",
            "        [0.7200],\n",
            "        [0.7400],\n",
            "        [0.7600],\n",
            "        [0.7800],\n",
            "        [0.8000],\n",
            "        [0.8200],\n",
            "        [0.8400],\n",
            "        [0.8600],\n",
            "        [0.8800],\n",
            "        [0.9000],\n",
            "        [0.9200],\n",
            "        [0.9400],\n",
            "        [0.9600],\n",
            "        [0.9800]]) tensor([[0.3000],\n",
            "        [0.3140],\n",
            "        [0.3280],\n",
            "        [0.3420],\n",
            "        [0.3560],\n",
            "        [0.3700],\n",
            "        [0.3840],\n",
            "        [0.3980],\n",
            "        [0.4120],\n",
            "        [0.4260],\n",
            "        [0.4400],\n",
            "        [0.4540],\n",
            "        [0.4680],\n",
            "        [0.4820],\n",
            "        [0.4960],\n",
            "        [0.5100],\n",
            "        [0.5240],\n",
            "        [0.5380],\n",
            "        [0.5520],\n",
            "        [0.5660],\n",
            "        [0.5800],\n",
            "        [0.5940],\n",
            "        [0.6080],\n",
            "        [0.6220],\n",
            "        [0.6360],\n",
            "        [0.6500],\n",
            "        [0.6640],\n",
            "        [0.6780],\n",
            "        [0.6920],\n",
            "        [0.7060],\n",
            "        [0.7200],\n",
            "        [0.7340],\n",
            "        [0.7480],\n",
            "        [0.7620],\n",
            "        [0.7760],\n",
            "        [0.7900],\n",
            "        [0.8040],\n",
            "        [0.8180],\n",
            "        [0.8320],\n",
            "        [0.8460],\n",
            "        [0.8600],\n",
            "        [0.8740],\n",
            "        [0.8880],\n",
            "        [0.9020],\n",
            "        [0.9160],\n",
            "        [0.9300],\n",
            "        [0.9440],\n",
            "        [0.9580],\n",
            "        [0.9720],\n",
            "        [0.9860]])\n",
            "Total dataset: X -> 50 set, Y -> 50\n"
          ]
        }
      ],
      "source": [
        "#Create *Known* parameters\n",
        "weight = 0.7\n",
        "bias = 0.3\n",
        "\n",
        "#create a dataset\n",
        "start = 0\n",
        "stop = 1\n",
        "step = 0.02\n",
        "X = torch.arange(start, stop, step).unsqueeze(dim=1)\n",
        "\n",
        "#Linear reg formula y = mx + c\n",
        "Y = weight*X + bias\n",
        "print(X, Y)\n",
        "print(f\"Total dataset: X -> {len(X)} set, Y -> {len(Y)}\")"
      ]
    },
    {
      "cell_type": "markdown",
      "metadata": {
        "id": "aKwMVdMx61AY"
      },
      "source": [
        "#Split data into training and test sets\n",
        "\n",
        "3 dataset technique to train model\n",
        " * Training set: 60-80% data\n",
        " * Validation set: 10-20% data(optional)\n",
        " * Testing set: 10-20% data\n",
        "\n",
        "``Generalization: Train model to perform well on data, it hasn't seen before.``"
      ]
    },
    {
      "cell_type": "code",
      "execution_count": 167,
      "metadata": {
        "colab": {
          "base_uri": "https://localhost:8080/"
        },
        "id": "RTm_Hph06E-E",
        "outputId": "2999b89c-7a37-40e6-afba-294843e918c3"
      },
      "outputs": [
        {
          "output_type": "execute_result",
          "data": {
            "text/plain": [
              "tensor([[0.8000],\n",
              "        [0.8200],\n",
              "        [0.8400],\n",
              "        [0.8600],\n",
              "        [0.8800],\n",
              "        [0.9000],\n",
              "        [0.9200],\n",
              "        [0.9400],\n",
              "        [0.9600],\n",
              "        [0.9800]])"
            ]
          },
          "metadata": {},
          "execution_count": 167
        }
      ],
      "source": [
        "#Create a train and test set data on above dataset...\n",
        "train_split = int(len(X) * 0.8)\n",
        "X_train, Y_train = X[:train_split], Y[:train_split]\n",
        "X_test, Y_test = X[train_split:], Y[train_split:]\n",
        "X_test"
      ]
    },
    {
      "cell_type": "markdown",
      "metadata": {
        "id": "75UVoZAM9lf5"
      },
      "source": [
        "#Visualizing using matplotlib"
      ]
    },
    {
      "cell_type": "code",
      "execution_count": 168,
      "metadata": {
        "id": "gvJtoyg89cyg"
      },
      "outputs": [],
      "source": [
        "def plot_prediction(train_data=X_train,\n",
        "                    train_labels=Y_train,\n",
        "                    test_data=X_test,\n",
        "                    test_labels=Y_test,\n",
        "                    prediction=None):\n",
        "  #Plot training data and compare predictions\n",
        "  plt.figure(figsize=(12,7))\n",
        "\n",
        "  #Plot training data in blue\n",
        "  plt.scatter(train_data, train_labels, c='b',s=6, label=\"Training data\")\n",
        "\n",
        "  #Plot training data in green\n",
        "  plt.scatter(test_data, test_labels, c='g',s=6, label=\"Testing data\")\n",
        "\n",
        "  # Are there prediction?\n",
        "  if prediction is not None:\n",
        "    #Plot prediction if exist\n",
        "    plt.scatter(test_data, prediction, c='r', label='Predicted data')\n",
        "\n",
        "  #show the legend\n",
        "  plt.legend(prop={'size': 14});\n",
        "\n",
        "\n"
      ]
    },
    {
      "cell_type": "markdown",
      "metadata": {
        "id": "qTvhWmSrCvDK"
      },
      "source": [
        "The model we create is going to try and learn the relationship between X_train & y_train and then we will evaluate what it learns on X_test and y_test.\n"
      ]
    },
    {
      "cell_type": "code",
      "execution_count": 169,
      "metadata": {
        "colab": {
          "base_uri": "https://localhost:8080/",
          "height": 599
        },
        "id": "o1bI0Knc9325",
        "outputId": "4e8dbc8c-0a77-4d2d-938a-cf6214a3a1bf"
      },
      "outputs": [
        {
          "output_type": "display_data",
          "data": {
            "text/plain": [
              "<Figure size 1200x700 with 1 Axes>"
            ],
            "image/png": "[encoded data removed]"
          },
          "metadata": {}
        }
      ],
      "source": [
        "plot_prediction()"
      ]
    },
    {
      "cell_type": "markdown",
      "metadata": {
        "id": "wYurYqg8BqFQ"
      },
      "source": [
        "#Creating Pytorch model for linear regression\n",
        "\n",
        "What our model does?\n",
        "* Start with random value (weights and bias)\n",
        "* Look at training data and adjust the random value to be better represent (or get closer to) ideal values(the weight and bias values we used to create the data)\n",
        "\n",
        "Two main algorithms:\n",
        "* Gradient descent\n",
        "* Backpropogation"
      ]
    },
    {
      "cell_type": "code",
      "execution_count": 170,
      "metadata": {
        "id": "Q9wNYLOBBu_1"
      },
      "outputs": [],
      "source": [
        "# 2. Build Model\n",
        "\n",
        "#Create linear regression model class\n",
        "#Model is created using oops in python\n",
        "\n",
        "class LinearRegressionModel(nn.Module): # <- almost everything in PyTorch is a nn.Module (think of this as neural network lego blocks)\n",
        "  def __init__(self):\n",
        "    super().__init__()\n",
        "    self.weights = nn.Parameter(torch.randn(1, # <- start with random weights (this will get adjusted as the model learns)\n",
        "                                           requires_grad=True, # <- Tthis parameter track by gradient..\n",
        "                                           dtype=torch.float))\n",
        "    self.bias = nn.Parameter(torch.randn(1,\n",
        "                                           requires_grad=True,\n",
        "                                           dtype=torch.float))\n",
        "\n",
        "  #Forward method to define computational in Model:\n",
        "  def forward(self, x: torch.tensor) -> torch.Tensor: # <- \"x\" is the input data (e.g. training/testing features)\n",
        "    return self.weights * x + self.bias\n",
        "\n"
      ]
    },
    {
      "cell_type": "markdown",
      "metadata": {
        "id": "nl6dkhqMskvS"
      },
      "source": [
        "# Pytorch model building essentials\n",
        "\n",
        "* torch.nn\t- Contains all of the building blocks for computational graphs (essentially a series of computations executed in a particular way).\n",
        "* torch.nn.Parameter - Stores tensors that can be used with nn.Module. If requires_grad=True gradients (used for updating model parameters via gradient descent) are calculated automatically, this is often referred to as \"autograd\".\n",
        "* torch.nn.Module - The base class for all neural network modules, all the building blocks for neural networks are subclasses. If you're building a neural network in PyTorch, your models should subclass nn.Module. Requires a forward() method be implemented.\n",
        "* torch.optim - Contains various optimization algorithms(these tell the model parameters stored in nn.Parameter how to best change to improve gradient descent and in turn reduce the loss).\n",
        "* def forward()- All nn.Module subclasses require a forward() method, this defines the computation that will take place on the data passed to the particular nn.Module (e.g. the linear regression formula above)."
      ]
    },
    {
      "cell_type": "markdown",
      "metadata": {
        "id": "VW38VpKcuXOw"
      },
      "source": [
        "# Checking the contents in Pytorch model"
      ]
    },
    {
      "cell_type": "code",
      "execution_count": 171,
      "metadata": {
        "colab": {
          "base_uri": "https://localhost:8080/"
        },
        "id": "-My5Yxz-yfrs",
        "outputId": "afc5428c-164b-4de4-d9de-a079ce18400b"
      },
      "outputs": [
        {
          "output_type": "stream",
          "name": "stdout",
          "text": [
            "[Parameter containing:\n",
            "tensor([0.3367], requires_grad=True), Parameter containing:\n",
            "tensor([0.1288], requires_grad=True)] \n",
            "\n",
            "OrderedDict([('weights', tensor([0.3367])), ('bias', tensor([0.1288]))])\n"
          ]
        }
      ],
      "source": [
        "#Create a random seed..\n",
        "torch.manual_seed(42)\n",
        "\n",
        "#Create a instance of the model\n",
        "model_0 = LinearRegressionModel()\n",
        "model_0\n",
        "\n",
        "#check out the parameters\n",
        "print(list(model_0.parameters()), '\\n')\n",
        "\n",
        "#Named Parameters\n",
        "print(model_0.state_dict())"
      ]
    },
    {
      "cell_type": "code",
      "execution_count": 172,
      "metadata": {
        "id": "9Ab7Cow0gt8e"
      },
      "outputs": [],
      "source": [
        "# When you call model_0.parameters(), it will return an iterator over these two parameters: the weight and the bias.\n",
        "# the parameters() method is inherited from the nn.Module class\n",
        "# nearly all custom models are subclasses of torch.nn.Module, which provides various utilities like parameters() and forward() methods.\n",
        "\n",
        "# How parameters() Works:\n",
        "# When you define layers or parameters using torch.nn.Parameter or torch.nn.Module components in your model,\n",
        "#  nn.Module registers them as part of the model. Then, parameters() automatically collects these parameters."
      ]
    },
    {
      "cell_type": "markdown",
      "metadata": {
        "id": "lZ9FEhJ_5-Uo"
      },
      "source": [
        "# Making Prediction with our random model using torch.inference_model()\n",
        "\n",
        "To check this we can pass it the test data X_test to see how closely it predicts y_test.\n",
        "\n",
        "When we pass data to our model, it'll go through the model's forward() method and produce a result using the computation we've defined.\n",
        "\n",
        "\n"
      ]
    },
    {
      "cell_type": "code",
      "execution_count": 173,
      "metadata": {
        "colab": {
          "base_uri": "https://localhost:8080/"
        },
        "id": "ObBxs1Or6WLS",
        "outputId": "80276fe1-0eca-4b8e-9b90-58147c82f4f3"
      },
      "outputs": [
        {
          "output_type": "execute_result",
          "data": {
            "text/plain": [
              "(tensor([[0.8000],\n",
              "         [0.8200],\n",
              "         [0.8400],\n",
              "         [0.8600],\n",
              "         [0.8800],\n",
              "         [0.9000],\n",
              "         [0.9200],\n",
              "         [0.9400],\n",
              "         [0.9600],\n",
              "         [0.9800]]),\n",
              " tensor([[0.8600],\n",
              "         [0.8740],\n",
              "         [0.8880],\n",
              "         [0.9020],\n",
              "         [0.9160],\n",
              "         [0.9300],\n",
              "         [0.9440],\n",
              "         [0.9580],\n",
              "         [0.9720],\n",
              "         [0.9860]]))"
            ]
          },
          "metadata": {},
          "execution_count": 173
        }
      ],
      "source": [
        "X_test, Y_test"
      ]
    },
    {
      "cell_type": "markdown",
      "metadata": {
        "id": "vlsPoHx08icd"
      },
      "source": [
        "You probably noticed we used torch.inference_mode() as a context manager (that's what the with torch.inference_mode(): is) to make the predictions.\n",
        "\n",
        "As the name suggests, torch.inference_mode() is used when using a model for inference (making predictions).\n",
        "\n",
        "torch.inference_mode() turns off a bunch of things (like gradient tracking, which is necessary for training but not for inference) to make forward-passes (data going through the forward() method) faster.\n",
        "\n",
        "**Note:** In older PyTorch code, you may also see torch.no_grad() being used for inference. While torch.inference_mode() and torch.no_grad() do similar things, torch.inference_mode() is newer, potentially faster and preferred. See this Tweet from PyTorch for more.\n",
        "\n"
      ]
    },
    {
      "cell_type": "code",
      "execution_count": 174,
      "metadata": {
        "colab": {
          "base_uri": "https://localhost:8080/"
        },
        "id": "PYksmhlJ6yx0",
        "outputId": "7dffe146-f9a9-473f-beac-d57d87933f26"
      },
      "outputs": [
        {
          "output_type": "stream",
          "name": "stdout",
          "text": [
            "tensor([[0.3982],\n",
            "        [0.4049],\n",
            "        [0.4116],\n",
            "        [0.4184],\n",
            "        [0.4251],\n",
            "        [0.4318],\n",
            "        [0.4386],\n",
            "        [0.4453],\n",
            "        [0.4520],\n",
            "        [0.4588]]) \n",
            " tensor([[0.3982],\n",
            "        [0.4049],\n",
            "        [0.4116],\n",
            "        [0.4184],\n",
            "        [0.4251],\n",
            "        [0.4318],\n",
            "        [0.4386],\n",
            "        [0.4453],\n",
            "        [0.4520],\n",
            "        [0.4588]])\n"
          ]
        }
      ],
      "source": [
        "#Make Prediction on model\n",
        "with torch.inference_mode():\n",
        "  y_preds = model_0(X_test)\n",
        "# or\n",
        "with torch.no_grad():\n",
        "  y_preds_grad = model_0(X_test)\n",
        "\n",
        "print(y_preds, '\\n', y_preds_grad)"
      ]
    },
    {
      "cell_type": "code",
      "execution_count": 175,
      "metadata": {
        "colab": {
          "base_uri": "https://localhost:8080/",
          "height": 599
        },
        "id": "lrZYR_ue73QX",
        "outputId": "83841895-346e-4d91-b76e-67dbd82b926e"
      },
      "outputs": [
        {
          "output_type": "display_data",
          "data": {
            "text/plain": [
              "<Figure size 1200x700 with 1 Axes>"
            ],
            "image/png": "[encoded data removed]"
          },
          "metadata": {}
        }
      ],
      "source": [
        "plot_prediction(prediction = y_preds)"
      ]
    },
    {
      "cell_type": "markdown",
      "metadata": {
        "id": "jF0zuWDDCV9g"
      },
      "source": [
        "# Train the model\n",
        "* The whole idea is to trainning a model from unknown paramters to known parameters\n",
        "* One way to measure how predictions of our model is wrong, is by checking loss function.(cost function)\n",
        "\n",
        "Things we need to train:\n",
        "*  **Loss function:** Measures how wrong your model predictions are to ideal output\n",
        "* **Optimizer**: Take into account of model's loss and adjust the model parameters(Weight and Loss) to improve the loss function..\n",
        "\n",
        "And specifically, for Pytorch, we need:\n",
        "* Training Loop\n",
        "* Testing Loop\n"
      ]
    },
    {
      "cell_type": "code",
      "execution_count": 176,
      "metadata": {
        "colab": {
          "base_uri": "https://localhost:8080/"
        },
        "id": "38CD7LnYDe0k",
        "outputId": "4f46a69e-6044-4404-9402-34f7fcef29a6"
      },
      "outputs": [
        {
          "output_type": "execute_result",
          "data": {
            "text/plain": [
              "SGD (\n",
              "Parameter Group 0\n",
              "    dampening: 0\n",
              "    differentiable: False\n",
              "    foreach: None\n",
              "    fused: None\n",
              "    lr: 0.01\n",
              "    maximize: False\n",
              "    momentum: 0\n",
              "    nesterov: False\n",
              "    weight_decay: 0\n",
              ")"
            ]
          },
          "metadata": {},
          "execution_count": 176
        }
      ],
      "source": [
        "#Setup a loss function.\n",
        "loss_fn = nn.L1Loss()\n",
        "loss_fn\n",
        "\n",
        "#Setup Optimizer (Stochastic gradient descent)\n",
        "optimizer = torch.optim.SGD(params=model_0.parameters(),\n",
        "                            lr=0.01) #Learning Rate = possibly the most important hyperparameter you can set...\n",
        "\n",
        "optimizer"
      ]
    },
    {
      "cell_type": "code",
      "execution_count": 177,
      "metadata": {
        "colab": {
          "base_uri": "https://localhost:8080/"
        },
        "id": "EBnMTdCT6pBs",
        "outputId": "a7d2e70e-d1fc-4d97-f75d-e115d78c1d8f"
      },
      "outputs": [
        {
          "output_type": "stream",
          "name": "stdout",
          "text": [
            "[Parameter containing:\n",
            "tensor([0.3367], requires_grad=True), Parameter containing:\n",
            "tensor([0.1288], requires_grad=True)] \n",
            "\n",
            " OrderedDict([('weights', tensor([0.3367])), ('bias', tensor([0.1288]))])\n"
          ]
        }
      ],
      "source": [
        "print(list(model_0.parameters()), '\\n\\n',  model_0.state_dict())"
      ]
    },
    {
      "cell_type": "markdown",
      "metadata": {
        "id": "0DQCpqC_GdHt"
      },
      "source": [
        "# Building a Training Loop & (Testing Loop) in Pytorch..\n",
        "\n",
        "A Couple of things we need to do.\n",
        "* 0.Loop through the data and do...\n",
        "*1.Forward pass - The model goes through all of the training data once, performing its forward() function calculations.\n",
        "* 2.Calculate the loss - The model's outputs (predictions) are compared to the ground truth and evaluated to see how wrong they are.\n",
        "* 3.Zero gradients - The optimizers gradients are set to zero (they are accumulated by default) so they can be recalculated for the specific training step.\n",
        "* 4.Perform backpropagation on the loss - Computes the gradient of the loss with respect for every model parameter to be updated (each parameter with requires_grad=True). This is known as backpropagation, hence \"backwards\".\n",
        "* 5.Update the optimizer (gradient descent) - Update the parameters with requires_grad=True with respect to the loss gradients in order to improve them."
      ]
    },
    {
      "cell_type": "code",
      "execution_count": 178,
      "metadata": {
        "colab": {
          "base_uri": "https://localhost:8080/"
        },
        "id": "4UlAjIBtISl4",
        "outputId": "8c090933-c495-4922-c668-e5aa4f03f208"
      },
      "outputs": [
        {
          "output_type": "stream",
          "name": "stdout",
          "text": [
            "Epoch: 0 | MAE Train Loss: 0.31288138031959534 | MAE Test Loss: 0.48106518387794495 \n",
            "Epoch: 10 | MAE Train Loss: 0.1976713240146637 | MAE Test Loss: 0.3463551998138428 \n",
            "Epoch: 20 | MAE Train Loss: 0.08908725529909134 | MAE Test Loss: 0.21729660034179688 \n",
            "Epoch: 30 | MAE Train Loss: 0.053148526698350906 | MAE Test Loss: 0.14464017748832703 \n",
            "Epoch: 40 | MAE Train Loss: 0.04543796554207802 | MAE Test Loss: 0.11360953003168106 \n",
            "Epoch: 50 | MAE Train Loss: 0.04167863354086876 | MAE Test Loss: 0.09919948130846024 \n",
            "Epoch: 60 | MAE Train Loss: 0.03818932920694351 | MAE Test Loss: 0.08886633068323135 \n",
            "Epoch: 70 | MAE Train Loss: 0.03476089984178543 | MAE Test Loss: 0.0805937647819519 \n",
            "Epoch: 80 | MAE Train Loss: 0.03132382780313492 | MAE Test Loss: 0.07232122868299484 \n",
            "Epoch: 90 | MAE Train Loss: 0.02788739837706089 | MAE Test Loss: 0.06473556160926819 \n"
          ]
        }
      ],
      "source": [
        "torch.manual_seed(42)\n",
        "# An epoch is one loop through the data.\n",
        "\n",
        "# Create empty loss lists to track values\n",
        "train_loss_values = []\n",
        "test_loss_values = []\n",
        "epoch_count = []\n",
        "\n",
        "epochs = 100\n",
        "for epoch in range(epochs):\n",
        "\n",
        "   model_0.train()  # Training mode sets all the parameters that require gradients to require gradients\n",
        "\n",
        "   # Forward pass\n",
        "   y_pred = model_0(X_train)\n",
        "\n",
        "   # Calculate the loss\n",
        "   loss = loss_fn(y_pred, Y_train)\n",
        "  #  print(f'Loss: {loss}')\n",
        "\n",
        "   # optimizer.zero_grad() should have parentheses\n",
        "   optimizer.zero_grad()\n",
        "\n",
        "   # Perform backpropagation on the loss with respect to parameters of the model\n",
        "   loss.backward()\n",
        "\n",
        "   # Step the optimizer\n",
        "   optimizer.step()\n",
        "\n",
        "   ### Testing\n",
        "\n",
        "   # Put the model in evaluation mode\n",
        "   model_0.eval() #Turns off the different setting in the model not needed for evaluating or testing (dropout/batch norm layers)\n",
        "   with torch.inference_mode(): #Turns off the gradient tracking and couple of more things behind the scenes...\n",
        "      #Do the forward pass:\n",
        "      test_pred_y = model_0(X_test)\n",
        "\n",
        "      test_loss = loss_fn(test_pred_y, Y_test)\n",
        "\n",
        "   # Print out what's happening\n",
        "   if epoch % 10 == 0:\n",
        "      epoch_count.append(epoch)\n",
        "      train_loss_values.append(loss.detach().numpy())\n",
        "      test_loss_values.append(test_loss.detach().numpy())\n",
        "      print(f\"Epoch: {epoch} | MAE Train Loss: {loss} | MAE Test Loss: {test_loss} \")\n"
      ]
    },
    {
      "cell_type": "code",
      "execution_count": 179,
      "metadata": {
        "colab": {
          "base_uri": "https://localhost:8080/"
        },
        "id": "dixQMuBScB-d",
        "outputId": "ebd445b8-b58b-4087-be92-8369c1087359"
      },
      "outputs": [
        {
          "output_type": "execute_result",
          "data": {
            "text/plain": [
              "([0, 10, 20, 30, 40, 50, 60, 70, 80, 90],\n",
              " [array(0.31288138, dtype=float32),\n",
              "  array(0.19767132, dtype=float32),\n",
              "  array(0.08908726, dtype=float32),\n",
              "  array(0.05314853, dtype=float32),\n",
              "  array(0.04543797, dtype=float32),\n",
              "  array(0.04167863, dtype=float32),\n",
              "  array(0.03818933, dtype=float32),\n",
              "  array(0.0347609, dtype=float32),\n",
              "  array(0.03132383, dtype=float32),\n",
              "  array(0.0278874, dtype=float32)])"
            ]
          },
          "metadata": {},
          "execution_count": 179
        }
      ],
      "source": [
        "epoch_count, train_loss_values"
      ]
    },
    {
      "cell_type": "code",
      "execution_count": 180,
      "metadata": {
        "colab": {
          "base_uri": "https://localhost:8080/"
        },
        "id": "PEEm9-wNWkpO",
        "outputId": "e5ec93f5-e0f3-4171-d00c-ceb28a73fe6e"
      },
      "outputs": [
        {
          "output_type": "stream",
          "name": "stdout",
          "text": [
            "OrderedDict([('weights', tensor([0.5784])), ('bias', tensor([0.3513]))])\n"
          ]
        }
      ],
      "source": [
        "\n",
        "print(model_0.state_dict())\n"
      ]
    },
    {
      "cell_type": "code",
      "execution_count": 181,
      "metadata": {
        "colab": {
          "base_uri": "https://localhost:8080/"
        },
        "id": "920cdincSdqm",
        "outputId": "6fea5491-4b66-4800-f438-3862a81548f2"
      },
      "outputs": [
        {
          "output_type": "stream",
          "name": "stdout",
          "text": [
            "tensor([[0.8141],\n",
            "        [0.8256],\n",
            "        [0.8372],\n",
            "        [0.8488],\n",
            "        [0.8603],\n",
            "        [0.8719],\n",
            "        [0.8835],\n",
            "        [0.8950],\n",
            "        [0.9066],\n",
            "        [0.9182]]) tensor([[0.8600],\n",
            "        [0.8740],\n",
            "        [0.8880],\n",
            "        [0.9020],\n",
            "        [0.9160],\n",
            "        [0.9300],\n",
            "        [0.9440],\n",
            "        [0.9580],\n",
            "        [0.9720],\n",
            "        [0.9860]])\n"
          ]
        }
      ],
      "source": [
        "with torch.inference_mode():\n",
        "  y_pred_new = model_0(X_test)\n",
        "y_pred_new\n",
        "\n",
        "print(y_pred_new, Y_test)"
      ]
    },
    {
      "cell_type": "code",
      "execution_count": 182,
      "metadata": {
        "colab": {
          "base_uri": "https://localhost:8080/",
          "height": 599
        },
        "id": "rSrQmgJZS_1n",
        "outputId": "b38ff087-8106-453f-d13d-6a8e6c7880f1"
      },
      "outputs": [
        {
          "output_type": "display_data",
          "data": {
            "text/plain": [
              "<Figure size 1200x700 with 1 Axes>"
            ],
            "image/png": "[encoded data removed]"
          },
          "metadata": {}
        }
      ],
      "source": [
        "plot_prediction(prediction = y_pred_new)"
      ]
    },
    {
      "cell_type": "code",
      "execution_count": 183,
      "metadata": {
        "id": "a_l50M1K4pX6"
      },
      "outputs": [],
      "source": [
        "# Epoch: One complete pass through the entire training dataset.\n",
        "# Epochs represent how many times the entire dataset is passed through the model.\n",
        "# gradient represents the partial derivative of a function (e.g., a loss function) with respect to its parameters (weights and biases in a model).\n",
        "# An optimizer is an algorithm that adjusts the parameters of the model (e.g., weights and biases) based on the gradients computed during backpropagation."
      ]
    },
    {
      "cell_type": "code",
      "source": [
        "# Plot the loss curves\n",
        "plt.plot(epoch_count, train_loss_values, label=\"Train loss\")\n",
        "plt.plot(epoch_count, test_loss_values, label=\"Test loss\")\n",
        "plt.title(\"Training and test loss curves\")\n",
        "plt.ylabel(\"Loss\")\n",
        "plt.xlabel(\"Epochs\")\n",
        "plt.legend();"
      ],
      "metadata": {
        "colab": {
          "base_uri": "https://localhost:8080/",
          "height": 472
        },
        "id": "Q14UJaVTNXUZ",
        "outputId": "550fce7c-e8c1-4694-b9d9-ecf4fda5da33"
      },
      "execution_count": 184,
      "outputs": [
        {
          "output_type": "display_data",
          "data": {
            "text/plain": [
              "<Figure size 640x480 with 1 Axes>"
            ],
            "image/png": "[encoded data removed]"
          },
          "metadata": {}
        }
      ]
    },
    {
      "cell_type": "markdown",
      "source": [
        "# Saving and loading a PyTorch model\n",
        "\n",
        "For saving and loading models in PyTorch, there are three main methods:\n",
        "* **torch.save** - Saves a serialized object to disk using Python's pickle utility. Models, tensors and various other Python objects like dictionaries can be saved using torch.save\n",
        "* **torch.load** - Uses pickle's unpickling features to deserialize and load pickled Python object files (like models, tensors or dictionaries) into memory. You can also set which device to load the object to (CPU, GPU etc).\n",
        "* **torch.nn.Module.load_state_dict** - Loads a model's parameter dictionary (model.state_dict()) using a saved state_dict() object."
      ],
      "metadata": {
        "id": "8PR3jGBlGWL7"
      }
    },
    {
      "cell_type": "code",
      "source": [
        "# Saving our pytorch model\n",
        "from pathlib import Path\n",
        "\n",
        "#  1. Create Models directory\n",
        "MODEL_PATH = Path(\"models\")\n",
        "MODEL_PATH.mkdir(parents = True, exist_ok = True)\n",
        "\n",
        "\n",
        "# 2. Create Model save path\n",
        "MODEL_NAME = \"01_pytorch_workflow.pth\"\n",
        "MODEL_SAVE_PATH = MODEL_PATH/MODEL_NAME\n",
        "\n",
        "# 3. Save the model state dict\n",
        "print(MODEL_SAVE_PATH)\n",
        "torch.save(obj=model_0.state_dict(),  # only saving the state_dict() only saves the models learned parameters\n",
        "           f = MODEL_SAVE_PATH)\n",
        "\n"
      ],
      "metadata": {
        "colab": {
          "base_uri": "https://localhost:8080/"
        },
        "id": "k-SOlz8lIIUu",
        "outputId": "5ea8595d-694b-4d34-d1f0-7de066a25e49"
      },
      "execution_count": 185,
      "outputs": [
        {
          "output_type": "stream",
          "name": "stdout",
          "text": [
            "models/01_pytorch_workflow.pth\n"
          ]
        }
      ]
    },
    {
      "cell_type": "code",
      "source": [
        "!ls -l models"
      ],
      "metadata": {
        "colab": {
          "base_uri": "https://localhost:8080/"
        },
        "id": "uQEcn2m_Q0Ml",
        "outputId": "85614cd2-ce7c-4c25-e00c-e6023c25d41f"
      },
      "execution_count": 186,
      "outputs": [
        {
          "output_type": "stream",
          "name": "stdout",
          "text": [
            "total 8\n",
            "-rw-r--r-- 1 root root 1568 Sep 21 03:48 01_pytorch_workflow.pth\n",
            "-rw-r--r-- 1 root root 1560 Sep 21 03:47 model_1.pth\n"
          ]
        }
      ]
    },
    {
      "cell_type": "code",
      "source": [
        "model_0.state_dict()"
      ],
      "metadata": {
        "colab": {
          "base_uri": "https://localhost:8080/"
        },
        "id": "ZNMi3Y8CRnmz",
        "outputId": "e5b3076f-1b60-41b0-efbb-a7d26e6156f8"
      },
      "execution_count": 187,
      "outputs": [
        {
          "output_type": "execute_result",
          "data": {
            "text/plain": [
              "OrderedDict([('weights', tensor([0.5784])), ('bias', tensor([0.3513]))])"
            ]
          },
          "metadata": {},
          "execution_count": 187
        }
      ]
    },
    {
      "cell_type": "markdown",
      "source": [
        "\n",
        "Loading a saved PyTorch model's state_dict()\n",
        "Since we've now got a saved model state_dict() at models/01_pytorch_workflow_model_0.pth we can now load it in using torch.nn.Module.load_state_dict(torch.load(f)) where f is the filepath of our saved model state_dict().\n",
        "\n",
        "\n",
        "Because we only saved the model's state_dict() which is a dictionary of learned parameters and not the entire model, we first have to load the state_dict() with torch.load() and then pass that state_dict() to a new instance of our model (which is a subclass of nn.Module)."
      ],
      "metadata": {
        "id": "zidYilocUIkx"
      }
    },
    {
      "cell_type": "code",
      "source": [
        "# Model Load\n",
        "\n",
        "loaded_model_0 = LinearRegressionModel()\n",
        "# print(loaded_model_0.state_dict())\n",
        "\n",
        "# Load the state_dict of our saved model (this will update the new instance of our model with trained weights)\n",
        "loaded_model_0.load_state_dict(torch.load(f=MODEL_SAVE_PATH, weights_only=True))\n",
        "loaded_model_0.state_dict()"
      ],
      "metadata": {
        "colab": {
          "base_uri": "https://localhost:8080/"
        },
        "id": "akz4u2deSJJY",
        "outputId": "9943653a-e281-4dbc-8a4d-4de9e9d1737b"
      },
      "execution_count": 188,
      "outputs": [
        {
          "output_type": "execute_result",
          "data": {
            "text/plain": [
              "OrderedDict([('weights', tensor([0.5784])), ('bias', tensor([0.3513]))])"
            ]
          },
          "metadata": {},
          "execution_count": 188
        }
      ]
    },
    {
      "cell_type": "code",
      "source": [
        "# 1. Put the loaded model into evaluation mode\n",
        "loaded_model_0.eval()\n",
        "# 2. Use the inference mode context manager to make predictions\n",
        "with torch.inference_mode():\n",
        "  loaded_model_preds = loaded_model_0(X_test)  # perform a forward pass on the test data with the loaded model\n",
        "\n",
        "# Compare previous model predictions with loaded model predictions (these should be the same)\n",
        "y_pred_new == loaded_model_preds"
      ],
      "metadata": {
        "colab": {
          "base_uri": "https://localhost:8080/"
        },
        "id": "Ynju4MaJVuNq",
        "outputId": "60c7c3c0-551d-4227-eb32-49ec783b6c42"
      },
      "execution_count": 189,
      "outputs": [
        {
          "output_type": "execute_result",
          "data": {
            "text/plain": [
              "tensor([[True],\n",
              "        [True],\n",
              "        [True],\n",
              "        [True],\n",
              "        [True],\n",
              "        [True],\n",
              "        [True],\n",
              "        [True],\n",
              "        [True],\n",
              "        [True]])"
            ]
          },
          "metadata": {},
          "execution_count": 189
        }
      ]
    },
    {
      "cell_type": "markdown",
      "source": [
        "It looks like the loaded model predictions are the same as the previous model predictions (predictions made prior to saving). This indicates our model is saving and loading as expected."
      ],
      "metadata": {
        "id": "MWmMrlwhWUoB"
      }
    },
    {
      "cell_type": "markdown",
      "source": [
        "# Combining and practice all the above step:"
      ],
      "metadata": {
        "id": "-8fStmZ6UUkD"
      }
    },
    {
      "cell_type": "code",
      "source": [
        "# Combing all of these above steps\n",
        "import torch\n",
        "from torch import nn\n",
        "import matplotlib.pyplot as plt\n",
        "\n",
        "#Setup device agnostic code:\n",
        "device = \"cuda\" if torch.cuda.is_available() else \"cpu\"\n",
        "\n",
        "weight = 0.7\n",
        "bias = 0.3\n",
        "\n",
        "#create a dataset\n",
        "X = torch.arange(0, 1, 0.02).unsqueeze(dim=1)\n",
        "Y = weight * X + bias\n",
        "\n",
        "#Splitting the data\n",
        "eight_per = int(len(X) * 0.8)\n",
        "X_train = X[:eight_per]\n",
        "Y_train = Y[:eight_per]\n",
        "X_test = X[eight_per:]\n",
        "Y_test = Y[eight_per:]\n",
        "\n",
        "len(X_test), len(Y_test), len(Y), eight_per"
      ],
      "metadata": {
        "id": "hcHGFkW4WVgU",
        "colab": {
          "base_uri": "https://localhost:8080/"
        },
        "outputId": "3629694a-90b3-4190-b408-335153e7cd09"
      },
      "execution_count": 190,
      "outputs": [
        {
          "output_type": "execute_result",
          "data": {
            "text/plain": [
              "(10, 10, 50, 40)"
            ]
          },
          "metadata": {},
          "execution_count": 190
        }
      ]
    },
    {
      "cell_type": "code",
      "source": [
        "# Plot the data\n",
        "plot_prediction(X_train, Y_train, X_test, Y_test)"
      ],
      "metadata": {
        "colab": {
          "base_uri": "https://localhost:8080/",
          "height": 599
        },
        "id": "jerjactqPISQ",
        "outputId": "7b58458d-c81d-4ebe-924c-92691f5714ce"
      },
      "execution_count": 191,
      "outputs": [
        {
          "output_type": "display_data",
          "data": {
            "text/plain": [
              "<Figure size 1200x700 with 1 Axes>"
            ],
            "image/png": "[encoded data removed]"
          },
          "metadata": {}
        }
      ]
    },
    {
      "cell_type": "code",
      "source": [
        "#Create a model\n",
        "class LinearRegressionModelV2(nn.Module):\n",
        "    def __init__(self):\n",
        "        super().__init__()\n",
        "        # Define the linear layer\n",
        "        # nn.linear set as default itself as linear regression formula/ also use nn.Linear() for creating model parameters\n",
        "        self.linear_layer = nn.Linear(in_features=1, out_features=1)\n",
        "\n",
        "    def forward(self, x: torch.Tensor) -> torch.Tensor:\n",
        "        # Apply the linear transformation\n",
        "        return self.linear_layer(x)"
      ],
      "metadata": {
        "id": "kZ5-mWrhNpdP"
      },
      "execution_count": 192,
      "outputs": []
    },
    {
      "cell_type": "code",
      "source": [
        "#Create a model\n",
        "\n",
        "# create a random seed\n",
        "torch.manual_seed(42)\n",
        "\n",
        "model_1 = LinearRegressionModelV2()\n",
        "model_1.state_dict()\n",
        "\n",
        "#Making a prediction with random paramter\n",
        "model_1.eval()\n",
        "\n",
        "with torch.inference_mode():\n",
        "  Y_pred_1 = model_1(X_test)\n",
        "\n",
        "Y_pred_1"
      ],
      "metadata": {
        "colab": {
          "base_uri": "https://localhost:8080/"
        },
        "id": "9InxA-bzS27c",
        "outputId": "8f38a6db-c1ad-4485-d816-38282abf38e2"
      },
      "execution_count": 193,
      "outputs": [
        {
          "output_type": "execute_result",
          "data": {
            "text/plain": [
              "tensor([[1.4416],\n",
              "        [1.4569],\n",
              "        [1.4722],\n",
              "        [1.4875],\n",
              "        [1.5028],\n",
              "        [1.5181],\n",
              "        [1.5334],\n",
              "        [1.5487],\n",
              "        [1.5640],\n",
              "        [1.5793]])"
            ]
          },
          "metadata": {},
          "execution_count": 193
        }
      ]
    },
    {
      "cell_type": "code",
      "source": [
        "plot_prediction(X_train, Y_train, X_test, Y_test, prediction = Y_pred_1)"
      ],
      "metadata": {
        "colab": {
          "base_uri": "https://localhost:8080/",
          "height": 599
        },
        "id": "BgwQO_OATfG6",
        "outputId": "449c1bec-61c5-46f0-835a-71198cff2c2a"
      },
      "execution_count": 194,
      "outputs": [
        {
          "output_type": "display_data",
          "data": {
            "text/plain": [
              "<Figure size 1200x700 with 1 Axes>"
            ],
            "image/png": "[encoded data removed]"
          },
          "metadata": {}
        }
      ]
    },
    {
      "cell_type": "code",
      "source": [
        "# Check the model parameters in current device\n",
        "next(model_1.parameters()).device\n",
        "\n",
        "# Transfer to target device\n",
        "model_1.to(device)\n",
        "next(model_1.parameters()).device"
      ],
      "metadata": {
        "colab": {
          "base_uri": "https://localhost:8080/"
        },
        "id": "N9JF_CJoUoMk",
        "outputId": "cfe352cc-ff06-4c0e-d726-8b14de9080c5"
      },
      "execution_count": 195,
      "outputs": [
        {
          "output_type": "execute_result",
          "data": {
            "text/plain": [
              "device(type='cpu')"
            ]
          },
          "metadata": {},
          "execution_count": 195
        }
      ]
    },
    {
      "cell_type": "code",
      "source": [
        "#Training a Model\n",
        "\n",
        "#setup loss function\n",
        "loss_fn1 = nn.L1Loss()\n",
        "\n",
        "#setup optimizer\n",
        "optimizer1 = torch.optim.SGD(params=model_1.parameters(),\n",
        "                            lr=0.01) #Learning Rate = possibly the most important hyperparameter you can set...\n",
        "\n",
        "X_train = X_train.to(device)\n",
        "Y_train = Y_train.to(device)\n",
        "X_test = X_test.to(device)\n",
        "Y_test = Y_test.to(device)\n",
        "\n",
        "\n",
        "#Let's train a model\n",
        "epochs = 200\n",
        "for epoch in range(epochs):\n",
        "\n",
        "  #Set training mode\n",
        "  model_1.train()\n",
        "\n",
        "  Y_pred_new1 = model_1(X_train)\n",
        "\n",
        "  loss = loss_fn1(Y_pred_new1, Y_train)\n",
        "\n",
        "  optimizer1.zero_grad()\n",
        "\n",
        "  loss.backward()\n",
        "\n",
        "  optimizer1.step()\n",
        "\n",
        "  #Testing\n",
        "  model_1.eval()\n",
        "  with torch.inference_mode():\n",
        "\n",
        "    Y_pred_test1 = model_1(X_test)\n",
        "    test_loss = loss_fn1(Y_pred_test1, Y_test)\n",
        "\n",
        "  if epoch % 10 == 0:\n",
        "    print(f'epoch: {epoch} | loss: {loss} | test_loss: {test_loss}')"
      ],
      "metadata": {
        "colab": {
          "base_uri": "https://localhost:8080/"
        },
        "id": "YyN-S2sFUQ6Z",
        "outputId": "ac1e0ce6-fbb3-4530-db27-edb37e20b179"
      },
      "execution_count": 196,
      "outputs": [
        {
          "output_type": "stream",
          "name": "stdout",
          "text": [
            "epoch: 0 | loss: 0.5551779866218567 | test_loss: 0.5739762187004089\n",
            "epoch: 10 | loss: 0.4399680495262146 | test_loss: 0.4392663538455963\n",
            "epoch: 20 | loss: 0.3247582018375397 | test_loss: 0.30455657839775085\n",
            "epoch: 30 | loss: 0.20954827964305878 | test_loss: 0.16984674334526062\n",
            "epoch: 40 | loss: 0.09433844685554504 | test_loss: 0.03513689711689949\n",
            "epoch: 50 | loss: 0.023886386305093765 | test_loss: 0.04784906655550003\n",
            "epoch: 60 | loss: 0.0199567973613739 | test_loss: 0.04580312222242355\n",
            "epoch: 70 | loss: 0.016517987474799156 | test_loss: 0.0375305712223053\n",
            "epoch: 80 | loss: 0.013089170679450035 | test_loss: 0.029944902285933495\n",
            "epoch: 90 | loss: 0.009653178043663502 | test_loss: 0.02167237363755703\n",
            "epoch: 100 | loss: 0.006215679459273815 | test_loss: 0.014086711220443249\n",
            "epoch: 110 | loss: 0.002787243574857712 | test_loss: 0.005814164876937866\n",
            "epoch: 120 | loss: 0.0012645035749301314 | test_loss: 0.013801807537674904\n",
            "epoch: 130 | loss: 0.0012645035749301314 | test_loss: 0.013801807537674904\n",
            "epoch: 140 | loss: 0.0012645035749301314 | test_loss: 0.013801807537674904\n",
            "epoch: 150 | loss: 0.0012645035749301314 | test_loss: 0.013801807537674904\n",
            "epoch: 160 | loss: 0.0012645035749301314 | test_loss: 0.013801807537674904\n",
            "epoch: 170 | loss: 0.0012645035749301314 | test_loss: 0.013801807537674904\n",
            "epoch: 180 | loss: 0.0012645035749301314 | test_loss: 0.013801807537674904\n",
            "epoch: 190 | loss: 0.0012645035749301314 | test_loss: 0.013801807537674904\n"
          ]
        }
      ]
    },
    {
      "cell_type": "code",
      "source": [
        "# Testing\n",
        "model_1.eval()\n",
        "with torch.inference_mode():\n",
        "  pred_1 = model_1(X_test)\n"
      ],
      "metadata": {
        "id": "N3AiDt8mmh70"
      },
      "execution_count": 197,
      "outputs": []
    },
    {
      "cell_type": "code",
      "source": [
        "plot_prediction(X_train, Y_train, X_test, Y_test, prediction = pred_1)"
      ],
      "metadata": {
        "colab": {
          "base_uri": "https://localhost:8080/",
          "height": 599
        },
        "id": "VgTic5UGmwQ5",
        "outputId": "e46900dd-d87c-4aa9-869a-4206bd1d08c9"
      },
      "execution_count": 198,
      "outputs": [
        {
          "output_type": "display_data",
          "data": {
            "text/plain": [
              "<Figure size 1200x700 with 1 Axes>"
            ],
            "image/png": "[encoded data removed]"
          },
          "metadata": {}
        }
      ]
    },
    {
      "cell_type": "code",
      "source": [
        "# Save and Load Model\n",
        "from pathlib import Path\n",
        "\n",
        "#create a model path\n",
        "MODEL_PATH = Path(\"models\")\n",
        "MODEL_PATH.mkdir(parents = True, exist_ok = True)\n",
        "\n",
        "#create a model save path\n",
        "MODEL_NAME = 'model_1.pth'\n",
        "MODEL_SAVE_PATH = MODEL_PATH/MODEL_NAME\n",
        "\n",
        "#save the model\n",
        "torch.save(obj = model_1.state_dict(),\n",
        "           f = MODEL_SAVE_PATH)\n"
      ],
      "metadata": {
        "id": "OzmzSJnhnzXI"
      },
      "execution_count": 199,
      "outputs": []
    },
    {
      "cell_type": "code",
      "source": [
        "# Load the save model and use it\n",
        "loaded_model_1 = LinearRegressionModelV2()\n",
        "loaded_model_1.load_state_dict(torch.load(MODEL_SAVE_PATH))\n",
        "\n",
        "# to change the target device of model parameter\n",
        "next(loaded_model_1.parameters()).device\n",
        "\n",
        "loaded_model_1.state_dict()"
      ],
      "metadata": {
        "colab": {
          "base_uri": "https://localhost:8080/"
        },
        "id": "401HjwTKqw1C",
        "outputId": "96cf3d8c-1c0e-4258-9b52-67a5412ff2c0"
      },
      "execution_count": 203,
      "outputs": [
        {
          "output_type": "stream",
          "name": "stderr",
          "text": [
            "<ipython-input-203-f6fbf470a780>:3: FutureWarning: You are using `torch.load` with `weights_only=False` (the current default value), which uses the default pickle module implicitly. It is possible to construct malicious pickle data which will execute arbitrary code during unpickling (See https://github.com/pytorch/pytorch/blob/main/SECURITY.md#untrusted-models for more details). In a future release, the default value for `weights_only` will be flipped to `True`. This limits the functions that could be executed during unpickling. Arbitrary objects will no longer be allowed to be loaded via this mode unless they are explicitly allowlisted by the user via `torch.serialization.add_safe_globals`. We recommend you start setting `weights_only=True` for any use case where you don't have full control of the loaded file. Please open an issue on GitHub for any issues related to this experimental feature.\n",
            "  loaded_model_1.load_state_dict(torch.load(MODEL_SAVE_PATH))\n"
          ]
        },
        {
          "output_type": "execute_result",
          "data": {
            "text/plain": [
              "OrderedDict([('linear_layer.weight', tensor([[0.6968]])),\n",
              "             ('linear_layer.bias', tensor([0.3025]))])"
            ]
          },
          "metadata": {},
          "execution_count": 203
        }
      ]
    },
    {
      "cell_type": "code",
      "source": [
        "# Evaluate the loaded model\n",
        "loaded_model_1.eval()\n",
        "with torch.inference_mode():\n",
        "  loaded_pred_1 = loaded_model_1(X_test)\n",
        "\n",
        "loaded_pred_1 == Y_pred_test1"
      ],
      "metadata": {
        "colab": {
          "base_uri": "https://localhost:8080/"
        },
        "id": "fHxbhZLGtJmb",
        "outputId": "0e674420-1324-40ce-83bc-d89ccfdfa201"
      },
      "execution_count": 204,
      "outputs": [
        {
          "output_type": "execute_result",
          "data": {
            "text/plain": [
              "tensor([[True],\n",
              "        [True],\n",
              "        [True],\n",
              "        [True],\n",
              "        [True],\n",
              "        [True],\n",
              "        [True],\n",
              "        [True],\n",
              "        [True],\n",
              "        [True]])"
            ]
          },
          "metadata": {},
          "execution_count": 204
        }
      ]
    }
  ],
  "metadata": {
    "accelerator": "GPU",
    "colab": {
      "gpuType": "T4",
      "provenance": []
    },
    "kernelspec": {
      "display_name": "Python 3",
      "name": "python3"
    },
    "language_info": {
      "name": "python"
    }
  },
  "nbformat": 4,
  "nbformat_minor": 0
}